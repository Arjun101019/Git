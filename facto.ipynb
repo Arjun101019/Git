{
 "cells": [
  {
   "cell_type": "code",
   "execution_count": 21,
   "metadata": {},
   "outputs": [
    {
     "name": "stdout",
     "output_type": "stream",
     "text": [
      "the factorial of a numnber in python:: 120\n"
     ]
    }
   ],
   "source": [
    "def facto(number):\n",
    "     if number>0:\n",
    "        return  number*facto(number-1)\n",
    "     else:\n",
    "         return 1\n",
    "         \n",
    "print(\"the factorial of a numnber in python::\",facto(5))"
   ]
  }
 ],
 "metadata": {
  "kernelspec": {
   "display_name": "Python 3",
   "language": "python",
   "name": "python3"
  },
  "language_info": {
   "codemirror_mode": {
    "name": "ipython",
    "version": 3
   },
   "file_extension": ".py",
   "mimetype": "text/x-python",
   "name": "python",
   "nbconvert_exporter": "python",
   "pygments_lexer": "ipython3",
   "version": "3.11.4"
  }
 },
 "nbformat": 4,
 "nbformat_minor": 2
}
