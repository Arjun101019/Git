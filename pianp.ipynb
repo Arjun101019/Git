{
 "cells": [
  {
   "cell_type": "code",
   "execution_count": 2,
   "metadata": {},
   "outputs": [
    {
     "data": {
      "text/html": [
       "\n",
       "                <audio  controls=\"controls\" >\n",
       "                    <source src=\"data:audio/wav;base64,UklGRnYEAABXQVZFZm10IBAAAAABAAEARKwAAIhYAQACABAAZGF0YVIEAAA+AH0AvAD7ADkBeAG3AfYBNAJzArIC8QIwA24DrQPsAysEaQSoBOcEJgVkBaMF4gUhBmAGngbdBhwHWweZB9gHfQC8APsAOQF4AbcB9gE0AnMCsgLxAjADbgOtA+wDKwRpBKgE5wQmBWQFowXiBSEGYAaeBt0GHAdbB5kH2AcXCFYIlQjTCBIJUQmQCc4JDQpMCosKyQoIC0cLhgvFCwMMQgyBDMAM/gw9DXwNuw36DTgOdw62DvUOMw9yD7EP8A8uEG0QrBDrECoRaBGnEeYRJRJjEqIS4RIgE14TnRPcExsUWhSYFNcUFhVVFZMV0hURFlAWjxbNFgwXSxeKF8gXBxhGGIUYwxgCGUEZgBm/Gf0ZPBp7Groa+Bo3G3YbtRv0GzIccRywHO8cLR1sHasd6h0oHmceph7lHiQfYh+hH+AfHyBdIJwg2yAaIVghlyHWIRUiVCKSItEiECNPI40jzCMLJEokiSTHJAYlRSWEJcIlASZAJn8mvSb8Jjsneie5J/cnNih1KLQo8igxKXAprynuKSwqayqqKukqJytmK6Ur5CsiLGEsoCzfLB4tXC2bLdotGS5XLpYu1S4UL1MvkS/QLw8wTjCMMMswCjFJMYcxxjEFMkQygzLBMgAzPzN+M7wz+zM6NHk0tzT2NDU1dDWzNfE1MDZvNq427DYrN2o3qTfoNyY4ZTikOOM4ITlgOZ853jkcOls6mjrZOhg7VjuVO9Q7EzxRPJA8zzwOPU09iz3KPQk+SD6GPsU+BD9DP4E/wD//Pz5AfUC7QPpAOUF4QbZB9UE0QnNCsULwQi9DbkOtQ+tDKkRpRKhE5kQlRWRFo0XiRSBGX0aeRt1GG0daR5lH2EcWSFVIlEjTSBJJUEmPSc5JDUpLSopKyUoIS0dLhUvESwNMQkyATL9M/kw9TXtNuk35TThOd061TvROM09yT7BP708uUG1Qq1DqUClRaFGnUeVRJFJjUqJS4FIfU15TnVPcUxpUWVSYVNdUFVVUVZNV0lUQVk9WjlbNVgxXSleJV8hXB1hFWIRYw1gCWUFZf1m+Wf1ZPFp6Wrla+Fo3W3VbtFvzWzJccVyvXO5cLV1sXapd6V0oXmdepl7kXiNfYl+hX99fHmBdYJxg2mAZYVhhl2HWYRRiU2KSYtFiD2NOY41jzGMKZElkiGTHZAZlRGWDZcJlAWY/Zn5mvWb8ZjtneWe4Z/dnNmh0aLNo8mgxaW9prmntaSxqa2qpauhqJ2tma6Rr42sibGFsoGzebB1tXG2bbdltGG5XbpZu1G4Tb1JvkW/Qbw5wTXCMcMtwCXFIcYdxxnEEckNygnLBcgBzPnN9c7xz+3M5dHh0t3T2dDV1c3WydfF1MHZudq127HYrd2l3qHfndyZ4ZXijeOJ4IXlgeZ553Xkcelt6mnrYehd7VnuVe9N7EnxRfJB8znwNfUx9i33KfQh+R36GfsV+A39Cf4F/wH//fw==\" type=\"audio/wav\" />\n",
       "                    Your browser does not support the audio element.\n",
       "                </audio>\n",
       "              "
      ],
      "text/plain": [
       "<IPython.lib.display.Audio object>"
      ]
     },
     "execution_count": 2,
     "metadata": {},
     "output_type": "execute_result"
    }
   ],
   "source": [
    "from IPython.display import Audio\n",
    "\n",
    "import numpy as np\n",
    "\n",
    "arjun=np.loadtxt(\"piano.txt\")\n",
    "Audio(arjun,rate=44100)"
   ]
  }
 ],
 "metadata": {
  "kernelspec": {
   "display_name": "Python 3",
   "language": "python",
   "name": "python3"
  },
  "language_info": {
   "codemirror_mode": {
    "name": "ipython",
    "version": 3
   },
   "file_extension": ".py",
   "mimetype": "text/x-python",
   "name": "python",
   "nbconvert_exporter": "python",
   "pygments_lexer": "ipython3",
   "version": "3.11.4"
  }
 },
 "nbformat": 4,
 "nbformat_minor": 2
}
