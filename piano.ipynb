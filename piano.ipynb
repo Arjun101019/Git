from IPython.display import Audio
import numpy as np
arjun=np.loadtxt("piano.txt")
print(Audio(arjun,rate=32))